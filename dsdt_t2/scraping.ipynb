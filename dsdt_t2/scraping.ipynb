{
 "cells": [
  {
   "cell_type": "code",
   "execution_count": 1,
   "metadata": {},
   "outputs": [
    {
     "data": {
      "text/html": [
       "<span style=\"None\">The &#x27;toml&#x27; package isn&#x27;t installed. To load settings from pyproject.toml or ~/.jupysql/config, install with: pip install toml</span>"
      ],
      "text/plain": [
       "The 'toml' package isn't installed. To load settings from pyproject.toml or ~/.jupysql/config, install with: pip install toml"
      ]
     },
     "metadata": {},
     "output_type": "display_data"
    },
    {
     "data": {
      "text/html": [
       "<span style=\"None\">displaylimit: Value None will be treated as 0 (no limit)</span>"
      ],
      "text/plain": [
       "displaylimit: Value None will be treated as 0 (no limit)"
      ]
     },
     "metadata": {},
     "output_type": "display_data"
    }
   ],
   "source": [
    "%load_ext sql\n",
    "%config SqlMagic.displaylimit = None\n",
    "%config SqlMagic.named_parameters=\"enabled\""
   ]
  },
  {
   "cell_type": "code",
   "execution_count": 2,
   "metadata": {},
   "outputs": [],
   "source": [
    "from typing import Generator\n",
    "import requests\n",
    "import bs4\n",
    "import datetime\n",
    "\n",
    "def get_vacancy(term: str) -> Generator[dict, None, None]:\n",
    "    next_page = True\n",
    "    url = \"https://www.jobs.ch\"\n",
    "    uri = \"/en/vacancies/\"\n",
    "    headers = {\"User-Agent\": \"Mozilla/5.0 (Linux; Android 6.0; Nexus 5 Build/MRA58N) AppleWebKit/537.36 (KHTML, like Gecko) Chrome/130.0.0.0 Mobile Safari/537.36\"}\n",
    "    while next_page is not None:\n",
    "        response = requests.get(url + uri, headers=headers) if (type(next_page) != bool) else requests.get(url + uri, params={\"term\": term}, headers=headers)\n",
    "        soup = bs4.BeautifulSoup(response.text, \"html.parser\")\n",
    "        tag = soup.find(attrs={\"data-cy\": \"vacancy-serp-item\"})\n",
    "        while tag is not None:\n",
    "            items = [item.string for item in tag.select(\"p,span\") if item.string is not None and item.string not in [\"Recommended\", \"Quick Apply\"]]\n",
    "            if len(items) == 7:\n",
    "                yield dict(\n",
    "                    id=tag.parent.get(\"href\").split(\"/\")[-2],\n",
    "                    publish_date=datetime.datetime.strptime(items[0].replace(\"Published: \", \"\"), \"%d %B %Y\").date().strftime(\"%Y-%m-%d\"),\n",
    "                    title=items[2],\n",
    "                    location=items[3],\n",
    "                    quota=items[4],\n",
    "                    employment_type=items[5],\n",
    "                    company=items[6],\n",
    "                    link=f'{url}{tag.parent.get(\"href\").split(\"?\")[0]}')\n",
    "            tag = tag.find_next(attrs={\"data-cy\": \"vacancy-serp-item\"})\n",
    "        if (next_page := soup.find(\"a\", attrs={\"data-cy\": \"paginator-next\"})) is not None:\n",
    "            uri = next_page.get(\"href\")"
   ]
  },
  {
   "cell_type": "code",
   "execution_count": 8,
   "metadata": {},
   "outputs": [
    {
     "data": {
      "text/html": [
       "<table>\n",
       "    <thead>\n",
       "        <tr>\n",
       "        </tr>\n",
       "    </thead>\n",
       "    <tbody>\n",
       "    </tbody>\n",
       "</table>"
      ],
      "text/plain": [
       "++\n",
       "||\n",
       "++\n",
       "++"
      ]
     },
     "execution_count": 8,
     "metadata": {},
     "output_type": "execute_result"
    }
   ],
   "source": [
    "%%sql sqlite:///jobs.db\n",
    "DROP TABLE IF EXISTS jobs;\n",
    "CREATE TABLE jobs (id text primary key, publish_date date, title text, company text, location text, employment_type text, quota text, link text);"
   ]
  },
  {
   "cell_type": "code",
   "execution_count": 9,
   "metadata": {},
   "outputs": [],
   "source": [
    "%%capture\n",
    "for row in get_vacancy(\"Data Engineer\"):\n",
    "    id, publish_date, title, location, quota, employment_type, company, link = tuple(row.values())\n",
    "    try:\n",
    "        %sql INSERT INTO jobs (id, publish_date, title, company, location, employment_type, quota, link) VALUES (:id, :publish_date, :title, :company, :location, :employment_type, :quota, :link);\n",
    "    except Exception as e:\n",
    "        print(f\"Error: {e} - Skipping row with id {id}\")"
   ]
  },
  {
   "cell_type": "code",
   "execution_count": 10,
   "metadata": {},
   "outputs": [
    {
     "data": {
      "text/html": [
       "<span style=\"None\">Running query in &#x27;sqlite:///jobs.db&#x27;</span>"
      ],
      "text/plain": [
       "Running query in 'sqlite:///jobs.db'"
      ]
     },
     "metadata": {},
     "output_type": "display_data"
    },
    {
     "data": {
      "text/html": [
       "<table>\n",
       "    <thead>\n",
       "        <tr>\n",
       "            <th>count(*)</th>\n",
       "        </tr>\n",
       "    </thead>\n",
       "    <tbody>\n",
       "        <tr>\n",
       "            <td>1543</td>\n",
       "        </tr>\n",
       "    </tbody>\n",
       "</table>"
      ],
      "text/plain": [
       "+----------+\n",
       "| count(*) |\n",
       "+----------+\n",
       "|   1543   |\n",
       "+----------+"
      ]
     },
     "execution_count": 10,
     "metadata": {},
     "output_type": "execute_result"
    }
   ],
   "source": [
    "%sql SELECT count(*) FROM jobs;"
   ]
  },
  {
   "cell_type": "code",
   "execution_count": 12,
   "metadata": {},
   "outputs": [
    {
     "data": {
      "text/html": [
       "<table>\n",
       "    <thead>\n",
       "        <tr>\n",
       "            <th>id</th>\n",
       "            <th>publish_date</th>\n",
       "            <th>title</th>\n",
       "            <th>company</th>\n",
       "            <th>location</th>\n",
       "            <th>employment_type</th>\n",
       "            <th>quota</th>\n",
       "            <th>link</th>\n",
       "        </tr>\n",
       "    </thead>\n",
       "    <tbody>\n",
       "        <tr>\n",
       "            <td>fb32064a-1974-400a-908a-0ce286e0bcfc</td>\n",
       "            <td>2024-10-21</td>\n",
       "            <td>SHE Ingenieur (m/w/d)</td>\n",
       "            <td>DSM-Firmenich</td>\n",
       "            <td>Lalden</td>\n",
       "            <td>Unlimited employment</td>\n",
       "            <td>100%</td>\n",
       "            <td><a href=https://www.jobs.ch/en/vacancies/detail/fb32064a-1974-400a-908a-0ce286e0bcfc/>https://www.jobs.ch/en/vacancies/detail/fb32064a-1974-400a-908a-0ce286e0bcfc/</a></td>\n",
       "        </tr>\n",
       "        <tr>\n",
       "            <td>98a8c832-5083-47c8-9e0d-1e5299e1c159</td>\n",
       "            <td>2024-10-01</td>\n",
       "            <td>Ingenieur/in für weltweite Inbetriebnahmen</td>\n",
       "            <td>Maerz Ofenbau AG</td>\n",
       "            <td>Zürich</td>\n",
       "            <td>Unlimited employment</td>\n",
       "            <td>100%</td>\n",
       "            <td><a href=https://www.jobs.ch/en/vacancies/detail/98a8c832-5083-47c8-9e0d-1e5299e1c159/>https://www.jobs.ch/en/vacancies/detail/98a8c832-5083-47c8-9e0d-1e5299e1c159/</a></td>\n",
       "        </tr>\n",
       "        <tr>\n",
       "            <td>a91ceb8f-6ba3-4bde-8dd7-ca096156037f</td>\n",
       "            <td>2024-10-17</td>\n",
       "            <td>Senior FPGA Engineer (f/m/d)</td>\n",
       "            <td>Leica Geosystems AG</td>\n",
       "            <td>Heerbrugg</td>\n",
       "            <td>Unlimited employment</td>\n",
       "            <td>100%</td>\n",
       "            <td><a href=https://www.jobs.ch/en/vacancies/detail/a91ceb8f-6ba3-4bde-8dd7-ca096156037f/>https://www.jobs.ch/en/vacancies/detail/a91ceb8f-6ba3-4bde-8dd7-ca096156037f/</a></td>\n",
       "        </tr>\n",
       "        <tr>\n",
       "            <td>906c8e08-ea42-4074-93eb-d44af37e9855</td>\n",
       "            <td>2024-10-15</td>\n",
       "            <td>DevOps Engineer C2I</td>\n",
       "            <td>RUAG MRO Holding AG</td>\n",
       "            <td>Thun</td>\n",
       "            <td>Unlimited employment</td>\n",
       "            <td>80 – 100%</td>\n",
       "            <td><a href=https://www.jobs.ch/en/vacancies/detail/906c8e08-ea42-4074-93eb-d44af37e9855/>https://www.jobs.ch/en/vacancies/detail/906c8e08-ea42-4074-93eb-d44af37e9855/</a></td>\n",
       "        </tr>\n",
       "        <tr>\n",
       "            <td>90b4e99e-2441-4bf0-a3d5-ef2d0cbff59a</td>\n",
       "            <td>2024-10-08</td>\n",
       "            <td>Junior Technical Engineer 80 - 100% (m/w)</td>\n",
       "            <td>BIBUS AG</td>\n",
       "            <td>Fehraltorf</td>\n",
       "            <td>Unlimited employment</td>\n",
       "            <td>80 – 100%</td>\n",
       "            <td><a href=https://www.jobs.ch/en/vacancies/detail/90b4e99e-2441-4bf0-a3d5-ef2d0cbff59a/>https://www.jobs.ch/en/vacancies/detail/90b4e99e-2441-4bf0-a3d5-ef2d0cbff59a/</a></td>\n",
       "        </tr>\n",
       "    </tbody>\n",
       "</table>"
      ],
      "text/plain": [
       "+--------------------------------------+--------------+--------------------------------------------+---------------------+------------+----------------------+-----------+-------------------------------------------------------------------------------------------------------------------------------------------------------------------------+\n",
       "|                  id                  | publish_date |                   title                    |       company       |  location  |   employment_type    |   quota   |                                                                                   link                                                                                  |\n",
       "+--------------------------------------+--------------+--------------------------------------------+---------------------+------------+----------------------+-----------+-------------------------------------------------------------------------------------------------------------------------------------------------------------------------+\n",
       "| fb32064a-1974-400a-908a-0ce286e0bcfc |  2024-10-21  |           SHE Ingenieur (m/w/d)            |    DSM-Firmenich    |   Lalden   | Unlimited employment |    100%   | <a href=https://www.jobs.ch/en/vacancies/detail/fb32064a-1974-400a-908a-0ce286e0bcfc/>https://www.jobs.ch/en/vacancies/detail/fb32064a-1974-400a-908a-0ce286e0bcfc/</a> |\n",
       "| 98a8c832-5083-47c8-9e0d-1e5299e1c159 |  2024-10-01  | Ingenieur/in für weltweite Inbetriebnahmen |   Maerz Ofenbau AG  |   Zürich   | Unlimited employment |    100%   | <a href=https://www.jobs.ch/en/vacancies/detail/98a8c832-5083-47c8-9e0d-1e5299e1c159/>https://www.jobs.ch/en/vacancies/detail/98a8c832-5083-47c8-9e0d-1e5299e1c159/</a> |\n",
       "| a91ceb8f-6ba3-4bde-8dd7-ca096156037f |  2024-10-17  |        Senior FPGA Engineer (f/m/d)        | Leica Geosystems AG | Heerbrugg  | Unlimited employment |    100%   | <a href=https://www.jobs.ch/en/vacancies/detail/a91ceb8f-6ba3-4bde-8dd7-ca096156037f/>https://www.jobs.ch/en/vacancies/detail/a91ceb8f-6ba3-4bde-8dd7-ca096156037f/</a> |\n",
       "| 906c8e08-ea42-4074-93eb-d44af37e9855 |  2024-10-15  |            DevOps Engineer C2I             | RUAG MRO Holding AG |    Thun    | Unlimited employment | 80 – 100% | <a href=https://www.jobs.ch/en/vacancies/detail/906c8e08-ea42-4074-93eb-d44af37e9855/>https://www.jobs.ch/en/vacancies/detail/906c8e08-ea42-4074-93eb-d44af37e9855/</a> |\n",
       "| 90b4e99e-2441-4bf0-a3d5-ef2d0cbff59a |  2024-10-08  | Junior Technical Engineer 80 - 100% (m/w)  |       BIBUS AG      | Fehraltorf | Unlimited employment | 80 – 100% | <a href=https://www.jobs.ch/en/vacancies/detail/90b4e99e-2441-4bf0-a3d5-ef2d0cbff59a/>https://www.jobs.ch/en/vacancies/detail/90b4e99e-2441-4bf0-a3d5-ef2d0cbff59a/</a> |\n",
       "+--------------------------------------+--------------+--------------------------------------------+---------------------+------------+----------------------+-----------+-------------------------------------------------------------------------------------------------------------------------------------------------------------------------+"
      ]
     },
     "execution_count": 12,
     "metadata": {},
     "output_type": "execute_result"
    }
   ],
   "source": [
    "%%sql sqlite:///jobs.db\n",
    "SELECT * FROM jobs LIMIT 5;"
   ]
  }
 ],
 "metadata": {
  "kernelspec": {
   "display_name": "dsdt-t2-CiU7dsmo-py3.12",
   "language": "python",
   "name": "python3"
  },
  "language_info": {
   "codemirror_mode": {
    "name": "ipython",
    "version": 3
   },
   "file_extension": ".py",
   "mimetype": "text/x-python",
   "name": "python",
   "nbconvert_exporter": "python",
   "pygments_lexer": "ipython3",
   "version": "3.12.2"
  }
 },
 "nbformat": 4,
 "nbformat_minor": 2
}
